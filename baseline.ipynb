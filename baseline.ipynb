{
 "cells": [
  {
   "cell_type": "code",
   "execution_count": null,
   "metadata": {},
   "outputs": [],
   "source": [
    "import pandas as pd\n",
    "import numpy as np\n",
    "import datetime\n",
    "import requests\n",
    "import json"
   ]
  },
  {
   "cell_type": "markdown",
   "metadata": {},
   "source": [
    "## Load Data"
   ]
  },
  {
   "cell_type": "code",
   "execution_count": null,
   "metadata": {},
   "outputs": [],
   "source": [
    "predictions = pd.read_csv('https://fh-public.s3-eu-west-1.amazonaws.com/ml-engineer/input_1.csv')"
   ]
  },
  {
   "cell_type": "code",
   "execution_count": null,
   "metadata": {},
   "outputs": [],
   "source": [
    "predictions.head()"
   ]
  },
  {
   "cell_type": "code",
   "execution_count": null,
   "metadata": {},
   "outputs": [],
   "source": [
    "constraints = requests.get('https://fh-public.s3-eu-west-1.amazonaws.com/ml-engineer/constraints.json').json()\n",
    "constraints"
   ]
  },
  {
   "cell_type": "markdown",
   "metadata": {},
   "source": [
    "## Define function to compute "
   ]
  },
  {
   "cell_type": "code",
   "execution_count": null,
   "metadata": {},
   "outputs": [],
   "source": [
    "from scipy.special import lambertw\n",
    "\n",
    "def get_accuracy_for(rate, interval):\n",
    "    \"\"\"\n",
    "        Computes the average accuracy for a price given expected \n",
    "        rate of change and interval between updates\n",
    "    \"\"\"\n",
    "    return (1 - np.exp(-rate * interval)) / (rate * interval)\n",
    "\n",
    "\n",
    "def get_ui_for(rate, accuracy):\n",
    "    \"\"\"\n",
    "        function to get update interval given expected rate and accuracy target\n",
    "        https://docs.scipy.org/doc/scipy/reference/generated/scipy.special.lambertw.html\n",
    "    \n",
    "    \"\"\"\n",
    "    W = np.real(lambertw(-np.exp(-1 / accuracy) / accuracy, k=0))\n",
    "    return ((accuracy * W) + 1) / (accuracy * rate)"
   ]
  },
  {
   "cell_type": "markdown",
   "metadata": {},
   "source": [
    "## Baseline Solution"
   ]
  },
  {
   "cell_type": "code",
   "execution_count": null,
   "metadata": {},
   "outputs": [],
   "source": [
    "bl = predictions.copy()"
   ]
  },
  {
   "cell_type": "code",
   "execution_count": null,
   "metadata": {},
   "outputs": [],
   "source": [
    "bl['update_interval'] = 60 * get_ui_for(bl.e_change_rate, constraints['target_accuracy'])\n",
    "bl['rpm'] = 1 / bl.update_interval\n",
    "\n",
    "bl['e_clicks_per_rpm'] = bl.e_clicks / bl.rpm\n",
    "\n",
    "bl = bl.sort_values('e_clicks_per_rpm', ascending=False).reset_index(drop=True)\n",
    "\n",
    "bl['cum_requests'] = bl.rpm.cumsum()\n",
    "\n",
    "selected = bl[bl.cum_requests < constraints['max_rpm']]"
   ]
  },
  {
   "cell_type": "code",
   "execution_count": null,
   "metadata": {},
   "outputs": [],
   "source": [
    "selected.e_clicks.sum()"
   ]
  }
 ],
 "metadata": {
  "kernelspec": {
   "display_name": "Python 3",
   "language": "python",
   "name": "python3"
  },
  "language_info": {
   "codemirror_mode": {
    "name": "ipython",
    "version": 3
   },
   "file_extension": ".py",
   "mimetype": "text/x-python",
   "name": "python",
   "nbconvert_exporter": "python",
   "pygments_lexer": "ipython3",
   "version": "3.6.9"
  }
 },
 "nbformat": 4,
 "nbformat_minor": 4
}
