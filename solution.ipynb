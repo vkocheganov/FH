{
 "cells": [
  {
   "cell_type": "code",
   "execution_count": null,
   "metadata": {},
   "outputs": [],
   "source": [
    "import pandas as pd\n",
    "import numpy as np\n",
    "import datetime\n",
    "import requests\n",
    "import json\n",
    "import os.path\n",
    "import logging\n",
    "logging.basicConfig(level=logging.WARNING) # WARNING, INFO, DEBUG"
   ]
  },
  {
   "cell_type": "markdown",
   "metadata": {},
   "source": [
    "## Load Data"
   ]
  },
  {
   "cell_type": "code",
   "execution_count": null,
   "metadata": {},
   "outputs": [],
   "source": [
    "input_file = 'input_1.csv'\n",
    "if os.path.isfile(input_file):\n",
    "    predictions = pd.read_csv(input_file) # Check if file exists in current directory\n",
    "else:\n",
    "    predictions = pd.read_csv('https://fh-public.s3-eu-west-1.amazonaws.com/ml-engineer/' + input_file)\n"
   ]
  },
  {
   "cell_type": "code",
   "execution_count": null,
   "metadata": {},
   "outputs": [],
   "source": [
    "predictions.head()"
   ]
  },
  {
   "cell_type": "code",
   "execution_count": null,
   "metadata": {},
   "outputs": [],
   "source": [
    "constraints = requests.get('https://fh-public.s3-eu-west-1.amazonaws.com/ml-engineer/constraints.json').json()\n",
    "constraints"
   ]
  },
  {
   "cell_type": "markdown",
   "metadata": {},
   "source": [
    "## Define function to compute "
   ]
  },
  {
   "cell_type": "code",
   "execution_count": null,
   "metadata": {},
   "outputs": [],
   "source": [
    "from scipy.special import lambertw\n",
    "\n",
    "def get_accuracy_for(rate, interval):\n",
    "    \"\"\"\n",
    "        Computes the average accuracy for a price given expected \n",
    "        rate of change and interval between updates\n",
    "    \"\"\"\n",
    "    return (1 - np.exp(-rate * interval)) / (rate * interval)\n",
    "\n",
    "\n",
    "def get_ui_for(rate, accuracy):\n",
    "    \"\"\"\n",
    "        function to get update interval given expected rate and accuracy target\n",
    "        https://docs.scipy.org/doc/scipy/reference/generated/scipy.special.lambertw.html\n",
    "    \n",
    "    \"\"\"\n",
    "    W = np.real(lambertw(-np.exp(-1 / accuracy) / accuracy, k=0))\n",
    "    return ((accuracy * W) + 1) / (accuracy * rate)"
   ]
  },
  {
   "cell_type": "markdown",
   "metadata": {},
   "source": [
    "## Define utitily functions"
   ]
  },
  {
   "cell_type": "code",
   "execution_count": null,
   "metadata": {},
   "outputs": [],
   "source": [
    "# Here and below Criteria_1.sum() = \"average-accuracies\" - \"target_accuracy\"\n",
    "# Criteria_2.sum() = total_rpm\n",
    "def update_data(_data, _target_accuracy):\n",
    "    _data['rpm'] = 1 / _data['update_interval']\n",
    "    _data['e_clicks_per_rpm'] = _data['e_clicks'] / _data['rpm']\n",
    "    _data['accuracy'] = get_accuracy_for (_data['e_change_rate'], _data['update_interval'] / 60)\n",
    "    _data['crit1']    = _data['e_clicks'] * (_data['accuracy'] - _target_accuracy)\n",
    "    _data['crit2']    = 1 / _data['update_interval']\n",
    "    \n",
    "def log_iteration_results(_clicks, _crit1, _crit2, _len_selected):\n",
    "    logging.info(\"clicks = %.2f, crit_1 = %.2f, crit_2 = %.2f, len(selected) = %d\" % (_clicks, _crit1, _crit2, _len_selected))"
   ]
  },
  {
   "cell_type": "markdown",
   "metadata": {},
   "source": [
    "## Define functions to probe new ui values"
   ]
  },
  {
   "cell_type": "code",
   "execution_count": null,
   "metadata": {},
   "outputs": [],
   "source": [
    "def find_better_ui_one_step(_data, _lr_minus, _lr_plus, _constraints):\n",
    "    \"\"\"\n",
    "        Basic idea is to devide itineraries in two parts:\n",
    "        \"update_interval\" for the 1st part is decreased (with corresponding accuracy increased)\n",
    "        and for the 2nd part is increased (with corresponding accuracy decreased)\n",
    "    \"\"\"\n",
    "    local_data = pd.DataFrame()\n",
    "    step_minus = _lr_minus * _data['update_interval'] \n",
    "    step_plus  = _lr_plus  * _data['update_interval'] \n",
    "    \n",
    "    local_data['ui_minus'] = _data['update_interval'] - step_minus\n",
    "    local_data['ui_plus']  = _data['update_interval'] + step_plus\n",
    "    acc_minus = get_accuracy_for(_data['e_change_rate'], local_data['ui_minus'] / 60)\n",
    "    acc_plus  = get_accuracy_for(_data['e_change_rate'], local_data['ui_plus']  / 60)\n",
    "    \n",
    "    local_data['cr_1_step_minus']    = _data['e_clicks'] * (acc_minus - _data['accuracy'])\n",
    "    local_data['cr_1_step_plus']     = _data['e_clicks'] * (acc_plus  - _data['accuracy'])\n",
    "    local_data['cum_cr1_step_minus'] = local_data['cr_1_step_minus'].cumsum()\n",
    "    \n",
    "    total_sum = local_data['cr_1_step_plus'].sum()\n",
    "    local_data['cum_cr1_step_plus']  = total_sum + local_data['cr_1_step_plus'] - local_data['cr_1_step_plus'].cumsum()\n",
    "\n",
    "    # Find splitting number N:\n",
    "    # the first one, which gives crit_1 > 0,\n",
    "    # hence giving the largest room for crit_2 reduction\n",
    "    sum_col = local_data['cum_cr1_step_minus'].values[:len(local_data)-1] + local_data['cum_cr1_step_plus'].values[1:]\n",
    "    N = np.arange(len(local_data) - 1)[sum_col > 0][0] + 1\n",
    "    logging.debug(\"chosen N = %d\" % N)\n",
    "    \n",
    "    # Update ui and calculate crit_2, which might be more than desired theshold\n",
    "    ui_minus_col = local_data.columns.get_loc('ui_minus')\n",
    "    ui_plus_col  = local_data.columns.get_loc('ui_plus')\n",
    "    new_ui       = local_data.iloc[:N, ui_minus_col].append(local_data.iloc[N:, ui_plus_col])\n",
    "    \n",
    "    crit2_val = (1/new_ui).sum()       \n",
    "    to_return = {'is_succeed' : True, 'new_ui' : new_ui, 'crit2' : crit2_val} \n",
    "    if (crit2_val > _constraints['max_rpm']):\n",
    "        to_return['is_succeed'] = False\n",
    "        \n",
    "    logging.debug(\"crit1 = %.2f, crit2 = %.2f\" % (sum_col[N], crit2_val)) \n",
    "    return to_return\n",
    "\n",
    "def find_better_ui(_selected, _constraints, _lr = 1e-3):\n",
    "    \"\"\"\n",
    "        Sort selected dataframe to further split itineraries into two parts:\n",
    "        1. ones where accuracy should be increased (with idx <= some_threshold_N)\n",
    "        2. ones where accuracy should be decreased (with idx > some_threshold_N)\n",
    "    \"\"\"\n",
    "    _selected.sort_values('e_clicks')\n",
    "    \n",
    "    # Try increasing/decreasing accuracies for itineraries.\n",
    "    # \"minus\"/\"plus\" in result's columns stands for reducing/increasing update_intervals\n",
    "    iters     = 0\n",
    "    max_iters = 15\n",
    "    while (True):\n",
    "        logging.debug(\"trying lr_minus = %f, lr_plus = %f\" % (_lr, _lr))\n",
    "        try_result = find_better_ui_one_step(_selected, _lr, _lr, _constraints)\n",
    "        if try_result['is_succeed'] or iters > max_iters:\n",
    "            break\n",
    "        _lr   /= 2\n",
    "        iters += 1\n",
    "    if try_result['is_succeed']:\n",
    "        _selected['update_interval'] = try_result['new_ui']\n",
    "        update_data(_selected, _constraints['target_accuracy'])\n",
    "    return try_result['is_succeed']\n"
   ]
  },
  {
   "cell_type": "markdown",
   "metadata": {},
   "source": [
    "## Define optimization high-level routines"
   ]
  },
  {
   "cell_type": "code",
   "execution_count": null,
   "metadata": {},
   "outputs": [],
   "source": [
    "def select_best_itinerary(_data, _max_rpm):\n",
    "    bl_clicks_per_sorted = _data.sort_values('e_clicks_per_rpm', ascending=False)\n",
    "    bl_clicks_per_sorted['cum_requests'] = bl_clicks_per_sorted['rpm'].cumsum()\n",
    "    selected = bl_clicks_per_sorted[bl_clicks_per_sorted['cum_requests'] < _max_rpm]\n",
    "    return selected\n",
    "\n",
    "def optimization_iteration(_bl, _selected, _constraints, _learn_rate = 0.9):\n",
    "    \"\"\"\n",
    "        Given selected itineraries set try updating it's ui\n",
    "        with saving crit_1 almost the same, but decreasing crit_2.\n",
    "        If it is impossible then 'is_succeed' is False\n",
    "    \"\"\"\n",
    "    is_succeed = find_better_ui(_selected, _constraints, _learn_rate)\n",
    "    \n",
    "    if is_succeed:   \n",
    "        # Once one has a room for crit_2\n",
    "        # select additional itineraries and update baseline set\n",
    "        selected_new = select_best_itinerary(_bl, _constraints['max_rpm'] - _selected['crit2'].sum())\n",
    "        _bl.loc[selected_new.index, 'update_interval'] = selected_new['update_interval']\n",
    "        update_data(_bl, _constraints['target_accuracy'])\n",
    "        _bl.drop(selected_new.index, inplace = True)\n",
    "        logging.debug(\"old len selected = %d, len(sel_1) = %d\" %(len(selected), len(selected_new)))\n",
    "        \n",
    "        # Append new selected set to old one\n",
    "        _selected = _selected.append(selected_new)\n",
    "        log_iteration_results(_selected['e_clicks'].sum(), _selected['crit1'].sum(), _selected['crit2'].sum(), len(_selected))\n",
    "        \n",
    "    return _selected"
   ]
  },
  {
   "cell_type": "markdown",
   "metadata": {},
   "source": [
    "## Baseline solution"
   ]
  },
  {
   "cell_type": "code",
   "execution_count": null,
   "metadata": {
    "scrolled": true
   },
   "outputs": [],
   "source": [
    "bl = predictions.copy()\n",
    "\n",
    "\"\"\"\n",
    "    Iteration 0\n",
    "    Create baseline set of itineraries\n",
    "    and select ones that satisfy criterias (crit1 and crit2)\n",
    "\"\"\"\n",
    "\n",
    "bl['update_interval'] = 60 * get_ui_for(bl['e_change_rate'], constraints['target_accuracy'])\n",
    "update_data(bl, constraints['target_accuracy'])\n",
    "selected = select_best_itinerary(bl, constraints['max_rpm'])\n",
    "bl = bl.drop(selected.index)\n",
    "log_iteration_results(selected['e_clicks'].sum(), selected['crit1'].sum(), selected['crit2'].sum(), len(selected))\n",
    "logging.warning(\"\\nBaseline clicks num = %.2f\\n\" % selected['e_clicks'].sum())"
   ]
  },
  {
   "cell_type": "markdown",
   "metadata": {},
   "source": [
    "## Optimized solution"
   ]
  },
  {
   "cell_type": "code",
   "execution_count": null,
   "metadata": {},
   "outputs": [],
   "source": [
    "# Loop until no new itineraries are selected \n",
    "old_size  = len(selected)\n",
    "curr_size = old_size + 1\n",
    "while curr_size > old_size:\n",
    "    # Iteration 1, 2, ...\n",
    "    old_size  = len(selected)\n",
    "    selected  = optimization_iteration(bl, selected, constraints)\n",
    "    curr_size = len(selected)\n",
    "logging.warning(\"\\nOptimized clicks num = %.2f\" % selected['e_clicks'].sum())"
   ]
  }
 ],
 "metadata": {
  "kernelspec": {
   "display_name": "Python 3",
   "language": "python",
   "name": "python3"
  },
  "language_info": {
   "codemirror_mode": {
    "name": "ipython",
    "version": 3
   },
   "file_extension": ".py",
   "mimetype": "text/x-python",
   "name": "python",
   "nbconvert_exporter": "python",
   "pygments_lexer": "ipython3",
   "version": "3.8.10"
  }
 },
 "nbformat": 4,
 "nbformat_minor": 4
}
